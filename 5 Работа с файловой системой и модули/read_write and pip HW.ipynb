{
 "cells": [
  {
   "cell_type": "markdown",
   "metadata": {},
   "source": [
    "# Домашнее задание чтение файлов и модули\n",
    "1. Переведите содержимое файла purchase_log.txt в словарь purchases вида:\n",
    "```python\n",
    "{'1840e0b9d4': 'Продукты', ...}\n",
    "```\n",
    "\n",
    "2. Для каждого user_id в файле visit_log.csv определите третий столбец с категорией покупки (если покупка была, сам файл visit_log.csv изменять не надо). Запишите в файл funnel.csv визиты из файла visit_log.csv, в которых были покупки с указанием категории.\n",
    "\n",
    "Учтите условия на данные:\n",
    "- содержимое purchase_log.txt помещается в оперативную память компьютера\n",
    "- содержимое visit_log.csv - нет; используйте только построчную обработку этого файла"
   ]
  },
  {
   "cell_type": "code",
   "execution_count": 6,
   "metadata": {},
   "outputs": [],
   "source": [
    "import json\n",
    "purchases = {}\n",
    "with open('Downloads/purchase_log.txt', 'r', encoding='utf-8') as f:\n",
    "    f.readline()\n",
    "    for line in f:\n",
    "        dict_ = json.loads(line.strip())\n",
    "        purchases.setdefault(dict_['user_id'], dict_['category'])"
   ]
  },
  {
   "cell_type": "code",
   "execution_count": 7,
   "metadata": {},
   "outputs": [],
   "source": [
    "with open('Downloads/visit_log.csv', 'r', encoding='utf-8') as ftable:\n",
    "    with open('Downloads/funnel.csv', 'w', encoding='utf-8') as fresult:\n",
    "        for line2 in ftable:\n",
    "            line2 = line2.strip().split(',')\n",
    "            if line2[0] in list(purchases.keys()):\n",
    "                line2.append(purchases[line2[0]])\n",
    "                fresult.write('%s\\n' % str(line2))"
   ]
  }
 ],
 "metadata": {
  "kernelspec": {
   "display_name": "Python 3",
   "language": "python",
   "name": "python3"
  },
  "language_info": {
   "codemirror_mode": {
    "name": "ipython",
    "version": 3
   },
   "file_extension": ".py",
   "mimetype": "text/x-python",
   "name": "python",
   "nbconvert_exporter": "python",
   "pygments_lexer": "ipython3",
   "version": "3.8.5"
  }
 },
 "nbformat": 4,
 "nbformat_minor": 4
}
