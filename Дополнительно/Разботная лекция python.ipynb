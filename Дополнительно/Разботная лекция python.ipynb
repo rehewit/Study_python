{
  "nbformat": 4,
  "nbformat_minor": 0,
  "metadata": {
    "colab": {
      "name": "Untitled30.ipynb",
      "provenance": []
    },
    "kernelspec": {
      "name": "python3",
      "display_name": "Python 3"
    }
  },
  "cells": [
    {
      "cell_type": "code",
      "metadata": {
        "id": "MkUneu8z0sVA",
        "colab": {
          "base_uri": "https://localhost:8080/",
          "height": 55
        },
        "outputId": "a44dbe4a-0966-4f34-e44f-f48a179652eb"
      },
      "source": [
        "age = 10\n",
        "age_after_10_years = age + 10\n",
        "print(\"Age after 10 years\", age_after_10_years)"
      ],
      "execution_count": null,
      "outputs": [
        {
          "output_type": "stream",
          "text": [
            "Age after 10 years 20\n"
          ],
          "name": "stdout"
        }
      ]
    },
    {
      "cell_type": "code",
      "metadata": {
        "id": "MuA78qXY7t00",
        "colab": {
          "base_uri": "https://localhost:8080/",
          "height": 55
        },
        "outputId": "0f6a84f2-1730-474e-9c1f-7458d76d24d1"
      },
      "source": [
        "name = 'Alexey'\n",
        "family = 'Kuzmin'\n",
        "surname = ''\n",
        "\n",
        "if surname != '':\n",
        "  fullname = name + ' '\n",
        "  fullname = fullname + surname\n",
        "  fullname = fullname + ' '\n",
        "  fullname += family\n",
        "else:\n",
        "  fullname = name + ' ' + family\n",
        "\n",
        "print(fullname)"
      ],
      "execution_count": null,
      "outputs": [
        {
          "output_type": "stream",
          "text": [
            "Alexey Kuzmin\n"
          ],
          "name": "stdout"
        }
      ]
    },
    {
      "cell_type": "code",
      "metadata": {
        "id": "W7Pb8aRV8mR-",
        "colab": {
          "base_uri": "https://localhost:8080/",
          "height": 688
        },
        "outputId": "84a54311-eac3-4afd-a42e-e8c89fa98804"
      },
      "source": [
        "age = 40\n",
        "candles_count =  20\n",
        "\n",
        "printed_count = 0\n",
        "\n",
        "while printed_count < age:\n",
        "  printed_count = printed_count + 1\n",
        "\n",
        "  if printed_count % 4 == 0:\n",
        "    continue\n",
        "\n",
        "  print(\"Candle\")\n",
        "  if printed_count % 5 == 0:\n",
        "    print(\"!\"*10)\n",
        "  \n",
        "print(\"That's all, folks!\")"
      ],
      "execution_count": null,
      "outputs": [
        {
          "output_type": "stream",
          "text": [
            "Candle\n",
            "Candle\n",
            "Candle\n",
            "Candle\n",
            "!!!!!!!!!!\n",
            "Candle\n",
            "Candle\n",
            "Candle\n",
            "Candle\n",
            "!!!!!!!!!!\n",
            "Candle\n",
            "Candle\n",
            "Candle\n",
            "Candle\n",
            "!!!!!!!!!!\n",
            "Candle\n",
            "Candle\n",
            "Candle\n",
            "Candle\n",
            "Candle\n",
            "Candle\n",
            "Candle\n",
            "!!!!!!!!!!\n",
            "Candle\n",
            "Candle\n",
            "Candle\n",
            "Candle\n",
            "!!!!!!!!!!\n",
            "Candle\n",
            "Candle\n",
            "Candle\n",
            "Candle\n",
            "!!!!!!!!!!\n",
            "Candle\n",
            "Candle\n",
            "Candle\n",
            "That's all, folks!\n"
          ],
          "name": "stdout"
        }
      ]
    },
    {
      "cell_type": "code",
      "metadata": {
        "id": "nVsHMr3RDYXk"
      },
      "source": [
        "import random"
      ],
      "execution_count": null,
      "outputs": []
    },
    {
      "cell_type": "code",
      "metadata": {
        "id": "6TitvaXNDby6",
        "colab": {
          "base_uri": "https://localhost:8080/",
          "height": 55
        },
        "outputId": "8d874ac7-29ab-47fc-fddc-fa6774190f51"
      },
      "source": [
        "random.random()"
      ],
      "execution_count": null,
      "outputs": [
        {
          "output_type": "execute_result",
          "data": {
            "text/plain": [
              "0.9510708090868143"
            ]
          },
          "metadata": {
            "tags": []
          },
          "execution_count": 5
        }
      ]
    },
    {
      "cell_type": "code",
      "metadata": {
        "id": "OkG3eC8s_k-D",
        "colab": {
          "base_uri": "https://localhost:8080/",
          "height": 284
        },
        "outputId": "7c20cc25-dc8b-4cd9-a524-6028046fd9a5"
      },
      "source": [
        "\n",
        "\n",
        "\n",
        "while True:\n",
        "  print(\"Not lucky\")\n",
        "  if random.random() > 0.9:\n",
        "    break"
      ],
      "execution_count": null,
      "outputs": [
        {
          "output_type": "stream",
          "text": [
            "Not lucky\n",
            "Not lucky\n",
            "Not lucky\n",
            "Not lucky\n",
            "Not lucky\n",
            "Not lucky\n",
            "Not lucky\n",
            "Not lucky\n",
            "Not lucky\n",
            "Not lucky\n",
            "Not lucky\n",
            "Not lucky\n",
            "Not lucky\n",
            "Not lucky\n"
          ],
          "name": "stdout"
        }
      ]
    },
    {
      "cell_type": "code",
      "metadata": {
        "id": "16qzm2AZDhoQ"
      },
      "source": [
        "a = 'apple'"
      ],
      "execution_count": null,
      "outputs": []
    },
    {
      "cell_type": "code",
      "metadata": {
        "id": "vaX41TedD96P"
      },
      "source": [
        "shopping_list = ['apple', 'banana', 'milk']"
      ],
      "execution_count": null,
      "outputs": []
    },
    {
      "cell_type": "code",
      "metadata": {
        "id": "3uWvVBfRERDE",
        "colab": {
          "base_uri": "https://localhost:8080/",
          "height": 55
        },
        "outputId": "2f852b19-7176-4cf4-896c-a0a38db0feeb"
      },
      "source": [
        "print(shopping_list)"
      ],
      "execution_count": null,
      "outputs": [
        {
          "output_type": "stream",
          "text": [
            "['apple', 'banana', 'milk']\n"
          ],
          "name": "stdout"
        }
      ]
    },
    {
      "cell_type": "code",
      "metadata": {
        "id": "PjcQ3pQGEbdb"
      },
      "source": [
        "shopping_list.append('tomatos')"
      ],
      "execution_count": null,
      "outputs": []
    },
    {
      "cell_type": "code",
      "metadata": {
        "id": "qPpT4Hp1Ejva",
        "colab": {
          "base_uri": "https://localhost:8080/",
          "height": 55
        },
        "outputId": "e94f3b2e-1623-4f15-d262-a2813275a80e"
      },
      "source": [
        "print(shopping_list)"
      ],
      "execution_count": null,
      "outputs": [
        {
          "output_type": "stream",
          "text": [
            "['apple', 'banana', 'milk', 'tomatos']\n"
          ],
          "name": "stdout"
        }
      ]
    },
    {
      "cell_type": "code",
      "metadata": {
        "id": "nTJfY049ElJZ",
        "colab": {
          "base_uri": "https://localhost:8080/",
          "height": 55
        },
        "outputId": "e065958e-63bb-4925-dfcd-9243db58563a"
      },
      "source": [
        "shopping_list[2]"
      ],
      "execution_count": null,
      "outputs": [
        {
          "output_type": "execute_result",
          "data": {
            "text/plain": [
              "'milk'"
            ]
          },
          "metadata": {
            "tags": []
          },
          "execution_count": 14
        }
      ]
    },
    {
      "cell_type": "code",
      "metadata": {
        "id": "Aa6EUsWcE2r7"
      },
      "source": [
        "shopping_list[2] = 'juice'"
      ],
      "execution_count": null,
      "outputs": []
    },
    {
      "cell_type": "code",
      "metadata": {
        "id": "b6cg9Vb2E63n",
        "colab": {
          "base_uri": "https://localhost:8080/",
          "height": 55
        },
        "outputId": "a96b1ee3-d944-46c7-c32c-af374ff56a9d"
      },
      "source": [
        "print(shopping_list)"
      ],
      "execution_count": null,
      "outputs": [
        {
          "output_type": "stream",
          "text": [
            "['apple', 'banana', 'juice', 'tomatos']\n"
          ],
          "name": "stdout"
        }
      ]
    },
    {
      "cell_type": "code",
      "metadata": {
        "id": "dXYggy7kE9LM"
      },
      "source": [
        "shopping_list.append(5)"
      ],
      "execution_count": null,
      "outputs": []
    },
    {
      "cell_type": "code",
      "metadata": {
        "id": "RrIxJtdlFH7h",
        "colab": {
          "base_uri": "https://localhost:8080/",
          "height": 55
        },
        "outputId": "7f868bbb-7e3d-4532-bab7-95d7801db342"
      },
      "source": [
        "print(shopping_list)"
      ],
      "execution_count": null,
      "outputs": [
        {
          "output_type": "stream",
          "text": [
            "['apple', 'banana', 'juice', 'tomatos', 5]\n"
          ],
          "name": "stdout"
        }
      ]
    },
    {
      "cell_type": "code",
      "metadata": {
        "id": "iH-cXVKWFJHu",
        "colab": {
          "base_uri": "https://localhost:8080/",
          "height": 55
        },
        "outputId": "a889be9c-0497-4fd7-f905-2c9ab3ffc121"
      },
      "source": [
        "len(shopping_list)"
      ],
      "execution_count": null,
      "outputs": [
        {
          "output_type": "execute_result",
          "data": {
            "text/plain": [
              "5"
            ]
          },
          "metadata": {
            "tags": []
          },
          "execution_count": 20
        }
      ]
    },
    {
      "cell_type": "code",
      "metadata": {
        "id": "_EcShfUxFWJt",
        "colab": {
          "base_uri": "https://localhost:8080/",
          "height": 55
        },
        "outputId": "0ed24024-6c02-4d8a-c256-1fdeb58b11ab"
      },
      "source": [
        "shopping_list[3]"
      ],
      "execution_count": null,
      "outputs": [
        {
          "output_type": "execute_result",
          "data": {
            "text/plain": [
              "'tomatos'"
            ]
          },
          "metadata": {
            "tags": []
          },
          "execution_count": 21
        }
      ]
    },
    {
      "cell_type": "code",
      "metadata": {
        "id": "XdojkyC-Fda4",
        "colab": {
          "base_uri": "https://localhost:8080/",
          "height": 55
        },
        "outputId": "4c4ae4ba-4a8d-4085-8ced-d1ff592500b7"
      },
      "source": [
        "'orange' in shopping_list"
      ],
      "execution_count": null,
      "outputs": [
        {
          "output_type": "execute_result",
          "data": {
            "text/plain": [
              "False"
            ]
          },
          "metadata": {
            "tags": []
          },
          "execution_count": 23
        }
      ]
    },
    {
      "cell_type": "code",
      "metadata": {
        "id": "lFYesgxvGI5a",
        "colab": {
          "base_uri": "https://localhost:8080/",
          "height": 55
        },
        "outputId": "e42ffa14-d6d5-472d-ec87-da895ab28b56"
      },
      "source": [
        "shopping_list.index('banana')"
      ],
      "execution_count": null,
      "outputs": [
        {
          "output_type": "execute_result",
          "data": {
            "text/plain": [
              "1"
            ]
          },
          "metadata": {
            "tags": []
          },
          "execution_count": 24
        }
      ]
    },
    {
      "cell_type": "code",
      "metadata": {
        "id": "TY3bMjiaGSro"
      },
      "source": [
        "shopping_list = {'apple': 5, 'banana': 2, 'milk': 1}"
      ],
      "execution_count": null,
      "outputs": []
    },
    {
      "cell_type": "code",
      "metadata": {
        "id": "jLDvQIXmG_sF",
        "colab": {
          "base_uri": "https://localhost:8080/",
          "height": 55
        },
        "outputId": "560165bb-e588-463c-8b6f-56c4d14f6f45"
      },
      "source": [
        "shopping_list"
      ],
      "execution_count": null,
      "outputs": [
        {
          "output_type": "execute_result",
          "data": {
            "text/plain": [
              "{'apple': 5, 'banana': 2, 'milk': 1}"
            ]
          },
          "metadata": {
            "tags": []
          },
          "execution_count": 26
        }
      ]
    },
    {
      "cell_type": "code",
      "metadata": {
        "id": "XFXTfyHVHBnR",
        "colab": {
          "base_uri": "https://localhost:8080/",
          "height": 55
        },
        "outputId": "bf374fa8-1666-4a44-851c-363c6d8ee678"
      },
      "source": [
        "shopping_list['banana']"
      ],
      "execution_count": null,
      "outputs": [
        {
          "output_type": "execute_result",
          "data": {
            "text/plain": [
              "3"
            ]
          },
          "metadata": {
            "tags": []
          },
          "execution_count": 30
        }
      ]
    },
    {
      "cell_type": "code",
      "metadata": {
        "id": "-ASbPAU2HKpr"
      },
      "source": [
        "shopping_list['mango'] = 1"
      ],
      "execution_count": null,
      "outputs": []
    },
    {
      "cell_type": "code",
      "metadata": {
        "id": "54I3CAQRHQ2r",
        "colab": {
          "base_uri": "https://localhost:8080/",
          "height": 55
        },
        "outputId": "0714063b-9a93-4373-a836-028db0861b34"
      },
      "source": [
        "shopping_list"
      ],
      "execution_count": null,
      "outputs": [
        {
          "output_type": "execute_result",
          "data": {
            "text/plain": [
              "{'apple': 5, 'banana': 3, 'mango': 1, 'milk': 1}"
            ]
          },
          "metadata": {
            "tags": []
          },
          "execution_count": 32
        }
      ]
    },
    {
      "cell_type": "code",
      "metadata": {
        "id": "8NW9BmeTHS-H",
        "colab": {
          "base_uri": "https://localhost:8080/",
          "height": 55
        },
        "outputId": "a24d6188-227a-4056-8159-1f8658ae46f2"
      },
      "source": [
        "shopping_list['apple']"
      ],
      "execution_count": null,
      "outputs": [
        {
          "output_type": "execute_result",
          "data": {
            "text/plain": [
              "5"
            ]
          },
          "metadata": {
            "tags": []
          },
          "execution_count": 33
        }
      ]
    },
    {
      "cell_type": "code",
      "metadata": {
        "id": "TjVd-otwHfr4",
        "colab": {
          "base_uri": "https://localhost:8080/",
          "height": 55
        },
        "outputId": "ed030698-9288-40f8-ad74-f7f2f04906b6"
      },
      "source": [
        "'apple' in shopping_list"
      ],
      "execution_count": null,
      "outputs": [
        {
          "output_type": "execute_result",
          "data": {
            "text/plain": [
              "True"
            ]
          },
          "metadata": {
            "tags": []
          },
          "execution_count": 34
        }
      ]
    },
    {
      "cell_type": "code",
      "metadata": {
        "id": "L7wznwqgIA95"
      },
      "source": [
        "shop_l = ['apple', 'banana', 'juice', 'tomatos']"
      ],
      "execution_count": null,
      "outputs": []
    },
    {
      "cell_type": "code",
      "metadata": {
        "id": "VSdeyXV4IM5U",
        "colab": {
          "base_uri": "https://localhost:8080/",
          "height": 108
        },
        "outputId": "34cb0023-5b67-4022-e467-79756c60c182"
      },
      "source": [
        "printed = 0\n",
        "while printed < len(shop_l):\n",
        "  print(shop_l[printed])\n",
        "  printed += 1"
      ],
      "execution_count": null,
      "outputs": [
        {
          "output_type": "stream",
          "text": [
            "apple\n",
            "banana\n",
            "juice\n",
            "tomatos\n"
          ],
          "name": "stdout"
        }
      ]
    },
    {
      "cell_type": "code",
      "metadata": {
        "id": "GiilnzWrIVa_",
        "colab": {
          "base_uri": "https://localhost:8080/",
          "height": 108
        },
        "outputId": "3e13baac-67dd-45a5-a313-96549124217f"
      },
      "source": [
        "for el in shop_l:\n",
        "  print(el)"
      ],
      "execution_count": null,
      "outputs": [
        {
          "output_type": "stream",
          "text": [
            "apple\n",
            "banana\n",
            "juice\n",
            "tomatos\n"
          ],
          "name": "stdout"
        }
      ]
    },
    {
      "cell_type": "code",
      "metadata": {
        "id": "87ISWiikIbwe",
        "colab": {
          "base_uri": "https://localhost:8080/",
          "height": 108
        },
        "outputId": "d35537ad-c373-4d5b-b15e-f623eea60ec4"
      },
      "source": [
        "printed = 0\n",
        "while printed < len(shop_l):\n",
        "  el = shop_l[printed]\n",
        "  print(printed, shop_l[printed])\n",
        "  printed += 1"
      ],
      "execution_count": null,
      "outputs": [
        {
          "output_type": "stream",
          "text": [
            "0 apple\n",
            "1 banana\n",
            "2 juice\n",
            "3 tomatos\n"
          ],
          "name": "stdout"
        }
      ]
    },
    {
      "cell_type": "code",
      "metadata": {
        "id": "C-5S2DFUJZfE",
        "colab": {
          "base_uri": "https://localhost:8080/",
          "height": 108
        },
        "outputId": "69a90bed-693b-492c-ea0b-769e45e16829"
      },
      "source": [
        "for i, el in enumerate(shop_l):\n",
        "  print(i, el)"
      ],
      "execution_count": null,
      "outputs": [
        {
          "output_type": "stream",
          "text": [
            "0 apple\n",
            "1 banana\n",
            "2 juice\n",
            "3 tomatos\n"
          ],
          "name": "stdout"
        }
      ]
    },
    {
      "cell_type": "code",
      "metadata": {
        "id": "KEIoP77rJvwK"
      },
      "source": [
        "test = {'Alexey': [1, {'Apple': 2} ,3], 'Vasya': 5}"
      ],
      "execution_count": null,
      "outputs": []
    },
    {
      "cell_type": "code",
      "metadata": {
        "id": "qum6ugs2KADK",
        "colab": {
          "base_uri": "https://localhost:8080/",
          "height": 55
        },
        "outputId": "64cc3968-5b55-4c4a-cefc-6f6a3d255ca1"
      },
      "source": [
        "test['Alexey'][1]['Apple']"
      ],
      "execution_count": null,
      "outputs": [
        {
          "output_type": "execute_result",
          "data": {
            "text/plain": [
              "2"
            ]
          },
          "metadata": {
            "tags": []
          },
          "execution_count": 49
        }
      ]
    },
    {
      "cell_type": "code",
      "metadata": {
        "id": "s351J23bKC05",
        "colab": {
          "base_uri": "https://localhost:8080/",
          "height": 72
        },
        "outputId": "63f6efb2-be84-46a4-cbea-82032a60a6a2"
      },
      "source": [
        "for k in test.items():\n",
        "  print(k)"
      ],
      "execution_count": null,
      "outputs": [
        {
          "output_type": "stream",
          "text": [
            "('Alexey', [1, {'Apple': 2}, 3])\n",
            "('Vasya', 5)\n"
          ],
          "name": "stdout"
        }
      ]
    },
    {
      "cell_type": "code",
      "metadata": {
        "id": "xv166Mm5Kgqx",
        "colab": {
          "base_uri": "https://localhost:8080/",
          "height": 55
        },
        "outputId": "76bd62f0-65a6-424b-8b98-278d7150f928"
      },
      "source": [
        "test"
      ],
      "execution_count": null,
      "outputs": [
        {
          "output_type": "execute_result",
          "data": {
            "text/plain": [
              "{'Alexey': [1, {'Apple': 2}, 3], 'Vasya': 5}"
            ]
          },
          "metadata": {
            "tags": []
          },
          "execution_count": 54
        }
      ]
    },
    {
      "cell_type": "code",
      "metadata": {
        "id": "JT-gpLyuKvFD",
        "colab": {
          "base_uri": "https://localhost:8080/",
          "height": 188
        },
        "outputId": "5eaa25bb-95b9-42ab-ce33-96b62f9699aa"
      },
      "source": [
        "test['Petya']"
      ],
      "execution_count": null,
      "outputs": [
        {
          "output_type": "error",
          "ename": "KeyError",
          "evalue": "ignored",
          "traceback": [
            "\u001b[0;31m---------------------------------------------------------------------------\u001b[0m",
            "\u001b[0;31mKeyError\u001b[0m                                  Traceback (most recent call last)",
            "\u001b[0;32m<ipython-input-58-df6632bf56f8>\u001b[0m in \u001b[0;36m<module>\u001b[0;34m()\u001b[0m\n\u001b[0;32m----> 1\u001b[0;31m \u001b[0mtest\u001b[0m\u001b[0;34m[\u001b[0m\u001b[0;34m'Petya'\u001b[0m\u001b[0;34m]\u001b[0m\u001b[0;34m\u001b[0m\u001b[0;34m\u001b[0m\u001b[0m\n\u001b[0m",
            "\u001b[0;31mKeyError\u001b[0m: 'Petya'"
          ]
        }
      ]
    },
    {
      "cell_type": "code",
      "metadata": {
        "id": "7OKHZMyxLPa-",
        "colab": {
          "base_uri": "https://localhost:8080/",
          "height": 55
        },
        "outputId": "4877f8d9-68da-49bb-8ae1-9868fc3459fe"
      },
      "source": [
        "test.get('Petya', 0)"
      ],
      "execution_count": null,
      "outputs": [
        {
          "output_type": "execute_result",
          "data": {
            "text/plain": [
              "0"
            ]
          },
          "metadata": {
            "tags": []
          },
          "execution_count": 59
        }
      ]
    },
    {
      "cell_type": "code",
      "metadata": {
        "id": "BwrxZ3J6LYxc",
        "colab": {
          "base_uri": "https://localhost:8080/",
          "height": 55
        },
        "outputId": "5fb10cdb-d3ba-41bf-bd0f-c2507b267d70"
      },
      "source": [
        "test"
      ],
      "execution_count": null,
      "outputs": [
        {
          "output_type": "execute_result",
          "data": {
            "text/plain": [
              "{'Alexey': [1, {'Apple': 2}, 3], 'Vasya': 5}"
            ]
          },
          "metadata": {
            "tags": []
          },
          "execution_count": 60
        }
      ]
    },
    {
      "cell_type": "code",
      "metadata": {
        "id": "I-XO3ZqELfll",
        "colab": {
          "base_uri": "https://localhost:8080/",
          "height": 90
        },
        "outputId": "f68d80ed-8de2-4389-a0a2-c82c3efc3cad"
      },
      "source": [
        "for k, v in test.items():\n",
        "  if type(v) == list:\n",
        "    for el in v:\n",
        "      if type(el) == dict:\n",
        "        for k2, v2 in el.items():\n",
        "          print(k2, v2)\n",
        "  print(k)"
      ],
      "execution_count": null,
      "outputs": [
        {
          "output_type": "stream",
          "text": [
            "Apple 2\n",
            "Alexey\n",
            "Vasya\n"
          ],
          "name": "stdout"
        }
      ]
    },
    {
      "cell_type": "code",
      "metadata": {
        "id": "GcMhMgskNnG_"
      },
      "source": [
        "value = [2,3,4,5]\n",
        "docs_input = 3"
      ],
      "execution_count": null,
      "outputs": []
    },
    {
      "cell_type": "code",
      "metadata": {
        "id": "puB7744SMO4r"
      },
      "source": [
        "for elem in value:\n",
        "  if elem == docs_input:\n",
        "    value.remove(elem)"
      ],
      "execution_count": null,
      "outputs": []
    },
    {
      "cell_type": "code",
      "metadata": {
        "id": "j4Sb36UWNq0J",
        "colab": {
          "base_uri": "https://localhost:8080/",
          "height": 55
        },
        "outputId": "2d1c1267-dc6f-4385-ef54-5ba5dc1e49a3"
      },
      "source": [
        "value"
      ],
      "execution_count": null,
      "outputs": [
        {
          "output_type": "execute_result",
          "data": {
            "text/plain": [
              "[2, 4, 5]"
            ]
          },
          "metadata": {
            "tags": []
          },
          "execution_count": 72
        }
      ]
    },
    {
      "cell_type": "code",
      "metadata": {
        "id": "qpmR5EZpN4_E",
        "colab": {
          "base_uri": "https://localhost:8080/",
          "height": 55
        },
        "outputId": "894f2b9d-7f54-4658-f72d-2821f2e42646"
      },
      "source": [
        "count = 8\n",
        "print(\"Candle\", \"!\"*count)"
      ],
      "execution_count": null,
      "outputs": [
        {
          "output_type": "stream",
          "text": [
            "Candle !!!!!!!!\n"
          ],
          "name": "stdout"
        }
      ]
    },
    {
      "cell_type": "code",
      "metadata": {
        "id": "RHXTPBo2Onl0"
      },
      "source": [
        "def print_candle(count):\n",
        "  if count > 10:\n",
        "    count = 10\n",
        "  print(\"Candle\", \"$\"*count)"
      ],
      "execution_count": null,
      "outputs": []
    },
    {
      "cell_type": "code",
      "metadata": {
        "id": "7Vf-McUHO0pf",
        "colab": {
          "base_uri": "https://localhost:8080/",
          "height": 90
        },
        "outputId": "2e92560d-8364-4938-f803-5cf8e06594fd"
      },
      "source": [
        "print_candle(4)\n",
        "print_candle(5)\n",
        "print_candle(30)"
      ],
      "execution_count": null,
      "outputs": [
        {
          "output_type": "stream",
          "text": [
            "Candle $$$$\n",
            "Candle $$$$$\n",
            "Candle $$$$$$$$$$\n"
          ],
          "name": "stdout"
        }
      ]
    },
    {
      "cell_type": "code",
      "metadata": {
        "id": "M4qvo8lUO206",
        "colab": {
          "base_uri": "https://localhost:8080/",
          "height": 55
        },
        "outputId": "e2df6f24-f1d2-43f5-8768-8bf9e71cd25d"
      },
      "source": [
        "random.random()"
      ],
      "execution_count": null,
      "outputs": [
        {
          "output_type": "execute_result",
          "data": {
            "text/plain": [
              "0.5171157083873466"
            ]
          },
          "metadata": {
            "tags": []
          },
          "execution_count": 87
        }
      ]
    },
    {
      "cell_type": "code",
      "metadata": {
        "id": "sEN8jW9HPjaK"
      },
      "source": [
        "def max(a,b):\n",
        "  return (a if a > b else b)\n",
        "  print(\"Vasya\")"
      ],
      "execution_count": null,
      "outputs": []
    },
    {
      "cell_type": "code",
      "metadata": {
        "id": "Aa0DO9bYP87y",
        "colab": {
          "base_uri": "https://localhost:8080/",
          "height": 55
        },
        "outputId": "14a68345-1d3d-49be-e068-bdabec8e84e6"
      },
      "source": [
        "max(4,5)"
      ],
      "execution_count": null,
      "outputs": [
        {
          "output_type": "execute_result",
          "data": {
            "text/plain": [
              "5"
            ]
          },
          "metadata": {
            "tags": []
          },
          "execution_count": 92
        }
      ]
    },
    {
      "cell_type": "code",
      "metadata": {
        "id": "b44Qmr7nQAWv"
      },
      "source": [
        ""
      ],
      "execution_count": null,
      "outputs": []
    }
  ]
}