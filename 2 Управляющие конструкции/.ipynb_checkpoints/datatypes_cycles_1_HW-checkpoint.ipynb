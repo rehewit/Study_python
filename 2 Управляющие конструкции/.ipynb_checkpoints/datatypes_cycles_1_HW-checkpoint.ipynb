{
 "cells": [
  {
   "cell_type": "markdown",
   "metadata": {},
   "source": [
    "# Домашнее задание к лекции \"Введение в типы данных и циклы. Часть 1\""
   ]
  },
  {
   "cell_type": "markdown",
   "metadata": {},
   "source": [
    "## Задание 1\n",
    "Дана переменная, в которой хранится слово из латинских букв. Напишите код, который выводит на экран:\n",
    "- среднюю букву, если число букв в слове нечетное;\n",
    "- две средних буквы, если число букв четное."
   ]
  },
  {
   "cell_type": "code",
   "execution_count": 3,
   "metadata": {},
   "outputs": [
    {
     "name": "stdout",
     "output_type": "stream",
     "text": [
      "Введите cлово nice\n",
      "ic\n"
     ]
    }
   ],
   "source": [
    "word = str(input('Введите cлово '))\n",
    "l = len(word)\n",
    "if (l % 2) == 0:\n",
    "    print(word[(l//2-1):(l//2+1)])\n",
    "else:\n",
    "    print(word[l//2])"
   ]
  },
  {
   "cell_type": "markdown",
   "metadata": {},
   "source": [
    "## Задание 2\n",
    "Напишите программу, которая последовательно запрашивает у пользователя числа (по одному за раз) и после первого нуля выводит сумму всех ранее введенных чисел."
   ]
  },
  {
   "cell_type": "code",
   "execution_count": 7,
   "metadata": {},
   "outputs": [
    {
     "name": "stdout",
     "output_type": "stream",
     "text": [
      "Введите число 1\n",
      "Введите число 2\n",
      "Введите число 0\n",
      "3  - сумма чисел\n"
     ]
    }
   ],
   "source": [
    "n_list = []\n",
    "n = int(input('Введите число '))\n",
    "while n != 0:\n",
    "    n_list.append(n)\n",
    "    n = int(input('Введите число '))\n",
    "\n",
    "print(sum(n_list), ' - сумма чисел')"
   ]
  },
  {
   "cell_type": "markdown",
   "metadata": {},
   "source": [
    "## Задание 3\n",
    "\n",
    "Мы делаем [MVP](https://ru.wikipedia.org/wiki/%D0%9C%D0%B8%D0%BD%D0%B8%D0%BC%D0%B0%D0%BB%D1%8C%D0%BD%D0%BE_%D0%B6%D0%B8%D0%B7%D0%BD%D0%B5%D1%81%D0%BF%D0%BE%D1%81%D0%BE%D0%B1%D0%BD%D1%8B%D0%B9_%D0%BF%D1%80%D0%BE%D0%B4%D1%83%D0%BA%D1%82) dating-сервиса, и у нас есть список парней и девушек.  \n",
    "Выдвигаем гипотезу: лучшие рекомендации мы получим, если просто отсортируем имена по алфавиту и познакомим людей с одинаковыми индексами после сортировки!\n",
    "Но мы не будем никого знакомить, если кто-то может остаться без пары:\n",
    "\n",
    "Примеры работы программы:  \n",
    "1.  \n",
    "\n",
    "```\n",
    "boys = ['Peter', 'Alex', 'John', 'Arthur', 'Richard']\n",
    "girls = ['Kate', 'Liza', 'Kira', 'Emma', 'Trisha']\n",
    "```\n",
    "\n",
    "Результат:  \n",
    "```\n",
    "Идеальные пары:  \n",
    "Alex и Emma  \n",
    "Arthur и Kate  \n",
    "John и Kira  \n",
    "Peter и Liza  \n",
    "Richard и Trisha \n",
    "```\n",
    "2.     \n",
    "\n",
    "```\n",
    "boys = ['Peter', 'Alex', 'John', 'Arthur', 'Richard', 'Michael']\n",
    "girls = ['Kate', 'Liza', 'Kira', 'Emma', 'Trisha']\n",
    "```\n",
    "\n",
    "Результат:  \n",
    "`Внимание, кто-то может остаться без пары!`"
   ]
  },
  {
   "cell_type": "code",
   "execution_count": 9,
   "metadata": {},
   "outputs": [],
   "source": [
    "boys = ['Peter', 'Alex', 'John', 'Arthur', 'Richard']\n",
    "girls = ['Kate', 'Liza', 'Kira', 'Emma', 'Trisha', 'Catherine']"
   ]
  },
  {
   "cell_type": "code",
   "execution_count": 10,
   "metadata": {},
   "outputs": [
    {
     "name": "stdout",
     "output_type": "stream",
     "text": [
      "Не хватает парня для составления последней пары\n"
     ]
    }
   ],
   "source": [
    "boys=sorted(boys)\n",
    "girls=sorted(girls)\n",
    "date=zip(boys, girls)\n",
    "date = list(date)\n",
    "if len(boys) == len(girls):\n",
    "    print('Идеальные пары:') \n",
    "    for pair in date:\n",
    "        print(pair[0], 'и', pair[1])\n",
    "elif len(boys) > len(girls):\n",
    "    print('Не хватает девушеки для составления последней пары')\n",
    "else:\n",
    "    print('Не хватает парня для составления последней пары')"
   ]
  },
  {
   "cell_type": "markdown",
   "metadata": {},
   "source": [
    "## Задание 4\n",
    "\n",
    "У нас есть список, содержащий информацию о среднедневной температуре в Фаренгейтах за произвольный период по странам (структура данных в примере).\n",
    "Необходимо написать код, который рассчитает среднюю температуру за период в Цельсиях(!) для каждой страны."
   ]
  },
  {
   "cell_type": "code",
   "execution_count": 11,
   "metadata": {},
   "outputs": [],
   "source": [
    "countries_temperature = [\n",
    " ['Thailand', [75.2, 77, 78.8, 73.4, 68, 75.2, 77]],\n",
    " ['Germany', [57.2, 55.4, 59, 59, 53.6, 55.4, 57.2]],\n",
    " ['Russia', [35.6, 37.4, 39.2, 41, 42.8, 39.2, 35.6]],\n",
    " ['Poland', [50, 50, 53.6, 57.2, 55.4, 55.4, 51.8]],\n",
    "]"
   ]
  },
  {
   "cell_type": "code",
   "execution_count": 12,
   "metadata": {},
   "outputs": [
    {
     "name": "stdout",
     "output_type": "stream",
     "text": [
      "Thailand:\n",
      "23.85714285714285 градусов Цельсия\n",
      "Germany:\n",
      "13.71428571428571 градусов Цельсия\n",
      "Russia:\n",
      "3.714285714285717 градусов Цельсия\n",
      "Poland:\n",
      "11.857142857142856 градусов Цельсия\n"
     ]
    }
   ],
   "source": [
    "for country, temp in countries_temperature:\n",
    "    print(country.capitalize(), ':', sep='')\n",
    "    Ctemp = ((sum(temp) / len(temp)) - 32) * 5/9\n",
    "    print(Ctemp, 'градусов Цельсия')"
   ]
  },
  {
   "cell_type": "markdown",
   "metadata": {},
   "source": [
    "## Задание 5 (необязательное)\n",
    "\n",
    "Дан поток логов по количеству просмотренных страниц для каждого пользователя. Вам необходимо написать алгоритм, который считает среднее значение просмотров на пользователя. \n",
    "Т. е. надо посчитать отношение суммы всех просмотров к количеству уникальных пользователей."
   ]
  },
  {
   "cell_type": "code",
   "execution_count": 13,
   "metadata": {},
   "outputs": [],
   "source": [
    "stream = [\n",
    "    '2018-01-01,user1,3',\n",
    "    '2018-01-07,user1,4',\n",
    "    '2018-03-29,user1,1',\n",
    "    '2018-04-04,user1,13',\n",
    "    '2018-01-05,user2,7',\n",
    "    '2018-06-14,user3,4',\n",
    "    '2018-07-02,user3,10',\n",
    "    '2018-03-21,user4,19',\n",
    "    '2018-03-22,user4,4',\n",
    "    '2018-04-22,user4,8',\n",
    "    '2018-05-03,user4,9',\n",
    "    '2018-05-11,user4,11',\n",
    "]"
   ]
  },
  {
   "cell_type": "code",
   "execution_count": 14,
   "metadata": {},
   "outputs": [
    {
     "name": "stdout",
     "output_type": "stream",
     "text": [
      "Cреднее значение просмотров на пользователя 23.25\n"
     ]
    }
   ],
   "source": [
    "sumviews = 0\n",
    "users = []\n",
    "\n",
    "for info in stream:\n",
    "    infosp = info.split(',')\n",
    "    sumviews += int(infosp[2])\n",
    "    if infosp[1] not in users:\n",
    "        users.append(infosp[1])\n",
    "print('Cреднее значение просмотров на пользователя', sumviews / len(users))"
   ]
  },
  {
   "cell_type": "markdown",
   "metadata": {},
   "source": [
    "## Задание 6 (необязательное)\n",
    "\n",
    "Необходимо у пользователя запрашивать набор чисел разделенных пробелом. В результате в отсортированном порядке должны выводиться числа, которые повторяются в вводе более одного раза.\n",
    "\n",
    "Примеры работы программы:  \n",
    "1.  \n",
    "\n",
    "```\n",
    "Введите числа:\n",
    "4 8 0 3 4 2 0 3\n",
    "```\n",
    "\n",
    "Результат:  \n",
    "`0 3 4`\n",
    "\n",
    "2.     \n",
    "\n",
    "```\n",
    "Введите числа:\n",
    "1 1 2 2 3 3\n",
    "```\n",
    "\n",
    "Результат:  \n",
    "`1 2 3`\n",
    "\n",
    "3.     \n",
    "\n",
    "```\n",
    "Введите числа:\n",
    "10 15 15 103 200 200 200 1 1 1 1 1 2 2 2\n",
    "```\n",
    "\n",
    "Результат:  \n",
    "`1 2 15 200`"
   ]
  },
  {
   "cell_type": "code",
   "execution_count": 9,
   "metadata": {},
   "outputs": [
    {
     "name": "stdout",
     "output_type": "stream",
     "text": [
      "Введите числа через пробел 1 1 1 2 2 3\n",
      "['1', '2']\n"
     ]
    }
   ],
   "source": [
    "n_unique = []\n",
    "n_line = input('Введите числа через пробел ')\n",
    "number_list = n_line.split(' ')\n",
    "for number in number_list:\n",
    "    if number_list.count(number) >= 2 and number not in n_unique:\n",
    "        n_unique.append(number)\n",
    "        \n",
    "print (n_unique)"
   ]
  }
 ],
 "metadata": {
  "kernelspec": {
   "display_name": "Python 3",
   "language": "python",
   "name": "python3"
  }
 },
 "nbformat": 4,
 "nbformat_minor": 2
}
