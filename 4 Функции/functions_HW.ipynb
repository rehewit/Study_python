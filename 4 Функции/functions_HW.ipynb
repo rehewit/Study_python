{
 "cells": [
  {
   "cell_type": "markdown",
   "metadata": {},
   "source": [
    "# Домашнее задание к лекции \"Функции\""
   ]
  },
  {
   "cell_type": "markdown",
   "metadata": {},
   "source": [
    "## Начать работу:"
   ]
  },
  {
   "cell_type": "code",
   "execution_count": null,
   "metadata": {},
   "outputs": [
    {
     "name": "stdout",
     "output_type": "stream",
     "text": [
      "Введите команду (для справки введите help): help\n",
      "\n",
      "    Список команд:\n",
      "    p – people – спросит номер документа и выведет имя человека, которому он принадлежит.\n",
      "    s – shelf – спросит номер документа и выведет номер полки, на которой он находится.\n",
      "    l – list – выведет список всех документов.\n",
      "    as – add shelf – спросит номер новой полки и добавит ее в перечень.\n",
      "    d – delete – спросит номер документа и удалит его из каталога и из перечня полок.\n",
      "    m – move – спросит номер документа и целевую полку и переместит его с текущей полки на целевую.\n",
      "    a – add – добавит новый документ в каталог и в перечень полок, спросив его номер, тип, \n",
      "                имя владельца и номер полки, на котором он будет храниться.\n",
      "    q - завершит программу.\n",
      "    \n"
     ]
    }
   ],
   "source": [
    "secr()"
   ]
  },
  {
   "cell_type": "markdown",
   "metadata": {},
   "source": [
    " "
   ]
  },
  {
   "cell_type": "markdown",
   "metadata": {},
   "source": [
    " "
   ]
  },
  {
   "cell_type": "code",
   "execution_count": 14,
   "metadata": {},
   "outputs": [],
   "source": [
    "documents = [\n",
    "{'type': 'passport', 'number': '2207 876234', 'name': 'Василий Гупкин'},\n",
    "{'type': 'invoice', 'number': '11-2', 'name': 'Геннадий Покемонов'},\n",
    "{'type': 'insurance', 'number': '10006', 'name': 'Аристарх Павлов'}\n",
    "]"
   ]
  },
  {
   "cell_type": "code",
   "execution_count": 74,
   "metadata": {},
   "outputs": [],
   "source": [
    "directories = {\n",
    "'1': ['2207 876234', '11-2'],\n",
    "'2': ['10006'],\n",
    "'3': []\n",
    "}"
   ]
  },
  {
   "cell_type": "code",
   "execution_count": 24,
   "metadata": {},
   "outputs": [],
   "source": [
    "instruction = (\n",
    "    \"\"\"\n",
    "    Список команд:\n",
    "    p – people – спросит номер документа и выведет имя человека, которому он принадлежит.\n",
    "    s – shelf – спросит номер документа и выведет номер полки, на которой он находится.\n",
    "    l – list – выведет список всех документов.\n",
    "    ads – adds shelf – спросит номер новой полки и добавит ее в перечень.\n",
    "    d – delete – спросит номер документа и удалит его из каталога и из перечня полок.\n",
    "    m – move – спросит номер документа и целевую полку и переместит его с текущей полки на целевую.\n",
    "    a – add – добавит новый документ в каталог и в перечень полок, спросив его номер, тип, \n",
    "                имя владельца и номер полки, на котором он будет храниться.\n",
    "    q - завершит программу.\n",
    "    \"\"\"\n",
    "        )"
   ]
  },
  {
   "cell_type": "code",
   "execution_count": 83,
   "metadata": {},
   "outputs": [],
   "source": [
    "def secr():\n",
    "    comand = 0\n",
    "    while comand != 'q':\n",
    "        comand = input('Введите команду (для справки введите help): ')\n",
    "        if comand == 'p':\n",
    "            number = str(input('Введите номер документа: '))\n",
    "            people(number)\n",
    "        elif comand == 's':\n",
    "            number = str(input('Введите номер документа: '))\n",
    "            shelf(number) \n",
    "        elif comand == 'l':\n",
    "            documentlist()\n",
    "        elif comand == 'ads':      \n",
    "            add_shelf()\n",
    "        elif comand == 'd':\n",
    "            number = str(input('Введите номер документа: '))\n",
    "            delete(number)\n",
    "        elif comand == 'm':\n",
    "            number = str(input('Введите номер документа: '))\n",
    "            where_to = str(input('Введите целевую папку: '))\n",
    "            move(number, where_to)\n",
    "        elif comand == 'a':\n",
    "            document_num = str(input('Для добавления документа введите его: 1. номер: '))\n",
    "            what_type = str(input('2. Тип документа: '))\n",
    "            name = str(input('3. Имя владельца: '))\n",
    "            shelf_name = str(input('3. Номер полки для хранения: '))\n",
    "            add(document_num, what_type, name, shelf_name)\n",
    "        elif comand == 'help':\n",
    "            print (instruction)\n",
    "        elif comand not in ['p', 's', 'l', 'as', 'd', 'm', 'a', 'q']:\n",
    "            print ('Команды', comand, 'не существует', instruction)"
   ]
  },
  {
   "cell_type": "code",
   "execution_count": 70,
   "metadata": {},
   "outputs": [
    {
     "name": "stdout",
     "output_type": "stream",
     "text": [
      "№ 2207 876234 тип документа: passport владелец: Василий Гупкин полка хранения: ['1']\n",
      "№ 11-2 тип документа: invoice владелец: Геннадий Покемонов полка хранения: ['1']\n",
      "№ 10006 тип документа: insurance владелец: Аристарх Павлов полка хранения: ['2']\n"
     ]
    }
   ],
   "source": [
    "def documentlist():\n",
    "    for person in documents:\n",
    "        print(f\"№ {person['number']} тип документа: {person['type']} владелец: {person['name']} полка хранения: {[key for key, values in list(directories.items()) if person['number'] in values]}\")\n",
    "documentlist()"
   ]
  },
  {
   "cell_type": "code",
   "execution_count": 78,
   "metadata": {},
   "outputs": [],
   "source": [
    "def add(document_num, what_type, name, shelf_name):\n",
    "    sum6 = 0\n",
    "    documents.append({'type':what_type, 'number':document_num, 'name':name})\n",
    "    print('Документ добавлен в список')\n",
    "    for shelf_num in directories:\n",
    "        if shelf_name in shelf_num:\n",
    "            directories[shelf_name].append(document_num)\n",
    "            sum6 += 1\n",
    "            print('Документ добавлен на полку ', shelf_name)\n",
    "    if sum6 == 0:\n",
    "        print('Полки не существует. Последняя полка в списке: ', list(directories)[-1])\n",
    "        choice = str(input('Введите + чтобы создать полку и переместить файл, введите l чтобы посмотреть список полок '))\n",
    "        if choice == '+':\n",
    "            add(document_num, what_type, name, add_shelf())\n",
    "        elif choice == 'l':\n",
    "            print(list(directories.keys()))"
   ]
  },
  {
   "cell_type": "code",
   "execution_count": 17,
   "metadata": {},
   "outputs": [],
   "source": [
    "def people(number):\n",
    "    [print(person['name']) for person in documents if number in person['number']]"
   ]
  },
  {
   "cell_type": "code",
   "execution_count": 31,
   "metadata": {},
   "outputs": [],
   "source": [
    "def shelf(number):\n",
    "    sum1 = 0\n",
    "    for shelf_num, shelf_guts in directories.items():\n",
    "        if number in shelf_guts:\n",
    "            sum1 += 1\n",
    "            print('Документ находится на полке: ',shelf_num)\n",
    "    if sum1 == 0:\n",
    "        print('Документ не существует на полке')  "
   ]
  },
  {
   "cell_type": "code",
   "execution_count": 81,
   "metadata": {},
   "outputs": [],
   "source": [
    "def add_shelf():\n",
    "    shelf_name = str(input('Введите номер новой полки: '))\n",
    "    sum2 = 0\n",
    "    for shelf_num in directories.keys():\n",
    "        if shelf_name in shelf_num:\n",
    "            print('Полка уже существует. Список полок:', list(directories.keys()))\n",
    "            shelf_name = str(input('Введите другой номер новой полки: '))\n",
    "            directories[shelf_name] = []\n",
    "            print('Добавлена полка ', shelf_name)\n",
    "            sum2 += 1\n",
    "            break             \n",
    "    if sum2 == 0:\n",
    "        directories[shelf_name] = []\n",
    "        print('Добавлена полка ', shelf_name)\n",
    "    return shelf_name "
   ]
  },
  {
   "cell_type": "code",
   "execution_count": 20,
   "metadata": {},
   "outputs": [],
   "source": [
    "def delete(number):\n",
    "    sum3 = 0\n",
    "    for person in documents:\n",
    "        if number in person['number']:\n",
    "            documents.remove(person)\n",
    "            sum3 += 1\n",
    "            print('Информация о документе удалена')\n",
    "    for shelf_num, shelf_guts in directories.items():\n",
    "        if number in shelf_guts:\n",
    "            directories[shelf_num].remove(number)\n",
    "            sum3 += 1\n",
    "            print('Информация о документе удалена c полок')  \n",
    "    if sum3 == 0:\n",
    "        print('Документ не существует') "
   ]
  },
  {
   "cell_type": "code",
   "execution_count": 21,
   "metadata": {},
   "outputs": [],
   "source": [
    "def move(number, where_to):\n",
    "    sum4 = 0\n",
    "    sum5 = 0\n",
    "    for shelf_num, shelf_guts in directories.items():\n",
    "        if where_to in shelf_num:\n",
    "            sum4 += 1\n",
    "        if number in shelf_guts:\n",
    "            sum5 += 1\n",
    "            shelf_num\n",
    "    if sum4 > 0 and sum5 > 0:\n",
    "        for shelf_num, shelf_guts in directories.items():\n",
    "            if number in shelf_guts:\n",
    "                directories[shelf_num].remove(number)\n",
    "                directories[where_to].append(number)            \n",
    "                print('Информация перенесена с полки', shelf_num, 'на полку', where_to)\n",
    "                break\n",
    "    if sum5 == 0:\n",
    "        print('Документ не существует')\n",
    "    if sum4 == 0:\n",
    "        print('Полки не существует. Последняя полка в списке: ', list(directories)[-1],)\n",
    "        choice = str(input('Введите + чтобы создать полку и переместить файл, введите l чтобы посмотреть список полок '))\n",
    "        if choice == '+':\n",
    "            move(number, add_shelf())\n",
    "        elif choice == 'l':\n",
    "            print(list(directories.keys()))"
   ]
  }
 ],
 "metadata": {
  "kernelspec": {
   "display_name": "Python 3",
   "language": "python",
   "name": "python3"
  },
  "language_info": {
   "codemirror_mode": {
    "name": "ipython",
    "version": 3
   },
   "file_extension": ".py",
   "mimetype": "text/x-python",
   "name": "python",
   "nbconvert_exporter": "python",
   "pygments_lexer": "ipython3",
   "version": "3.8.5"
  }
 },
 "nbformat": 4,
 "nbformat_minor": 2
}
