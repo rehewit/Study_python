{
 "cells": [
  {
   "cell_type": "markdown",
   "metadata": {},
   "source": [
    "Задание 1. Даны 2 строки: long_phrase и short_phrase. Напишите код, который проверяет действительно ли длинная фраза long_phrase длиннее короткой short_phrase. И выводит True или False в зависимости от результата сравнения."
   ]
  },
  {
   "cell_type": "code",
   "execution_count": 59,
   "metadata": {},
   "outputs": [],
   "source": [
    "long_phrase = 'Наскольк_dgjegkwerflkwedfkjndfgjknwsfgkjndsfkgjnsdkfjgnsfпчики'\n",
    "short_phrase = '640Кб_______________________________ е)'"
   ]
  },
  {
   "cell_type": "code",
   "execution_count": 61,
   "metadata": {},
   "outputs": [
    {
     "data": {
      "text/plain": [
       "False"
      ]
     },
     "execution_count": 61,
     "metadata": {},
     "output_type": "execute_result"
    }
   ],
   "source": [
    "len(long_phrase) < len(short_phrase)"
   ]
  },
  {
   "cell_type": "markdown",
   "metadata": {},
   "source": [
    "Задание 2. Дано значение объема файла в байтах (в мегабайте 2^20 байт). Напишите перевод этого значения в мегабайты в формате: \"Объем файла равен 213.68Mb\"."
   ]
  },
  {
   "cell_type": "code",
   "execution_count": 50,
   "metadata": {},
   "outputs": [
    {
     "name": "stdout",
     "output_type": "stream",
     "text": [
      "Введите объем файла в байтах122222222211111111\n",
      "Объем файла равен 116560194216.83417 Mb\n"
     ]
    }
   ],
   "source": [
    "bites = int(input('Введите объем файла в байтах' ))\n",
    "print('Объем файла равен', bites/(2**20),'Mb')"
   ]
  },
  {
   "cell_type": "markdown",
   "metadata": {},
   "source": [
    "Задание 3. Разработать приложение для определения знака зодиака по дате рождения. Пример:\n",
    "\n",
    "Введите месяц: март\n",
    "\n",
    "Введите число: 6\n",
    "\n",
    "Вывод: Рыбы"
   ]
  },
  {
   "cell_type": "code",
   "execution_count": 51,
   "metadata": {},
   "outputs": [
    {
     "name": "stdout",
     "output_type": "stream",
     "text": [
      "Введите месяц рождениямай\n",
      "Введите дату рождения16\n",
      "телец\n"
     ]
    }
   ],
   "source": [
    "month = (input('Введите месяц рождения'))\n",
    "date = int(input('Введите дату рождения'))\n",
    "if month == 'январь':\n",
    "    if (date >= 21):\n",
    "        print('водолей')\n",
    "    else: print('козерог')\n",
    "elif month == 'февраль':\n",
    "    if (date >= 21):\n",
    "        print('рыбы')\n",
    "    else: print('водолей')\n",
    "elif month == 'март':\n",
    "    if (date >= 21):\n",
    "        print('овен')\n",
    "    else: print('рыбы')\n",
    "elif month == 'апрель':\n",
    "    if (date >= 21):\n",
    "        print('телец')\n",
    "    else: print('овен')\n",
    "elif month == 'май':\n",
    "    if (date >= 22):\n",
    "        print('близнецы')\n",
    "    else: print('телец')\n",
    "elif month == 'июнь':\n",
    "    if (date >= 22):\n",
    "        print('рак')\n",
    "    else: print('близнецы')\n",
    "elif month == 'июль':\n",
    "    if (date >= 23):\n",
    "        print('лев')\n",
    "    else: print('рак')\n",
    "elif month == 'август':\n",
    "    if (date >= 24):\n",
    "        print('дева')\n",
    "    else: print('лев')\n",
    "elif month == 'сентябрь':\n",
    "    if (date >= 24):\n",
    "        print('весы')\n",
    "    else: print('дева')\n",
    "elif month == 'октябрь':\n",
    "    if (date >= 24):\n",
    "        print('скорпион')\n",
    "    else: print('весы')\n",
    "elif month == 'ноябрь':\n",
    "    if (date >= 23):\n",
    "        print('стрелец')\n",
    "    else: print('скорпион')\n",
    "elif month == 'декабрь':\n",
    "    if (date >= 23):\n",
    "        print('козерог')\n",
    "    else: print('стрелец')"
   ]
  },
  {
   "cell_type": "markdown",
   "metadata": {},
   "source": [
    "Задание 4. Нужно разработать приложение для финансового планирования. Приложение учитывает сколько уходит на ипотеку, \"на жизнь\" и сколько нужно отложить на пенсию. Пользователь вводит:\n",
    "\n",
    "заработанную плату в месяц.\n",
    "сколько процентов от ЗП уходит на ипотеку.\n",
    "сколько процентов от ЗП уходит \"на жизнь\".\n",
    "сколько раз приходит премия в год.\n",
    "Остальная часть заработанной платы откладывается на пенсию.\n",
    "\n",
    "Также пользователю приходит премия в размере зарплаты, от которой половина уходит на отпуск, а вторая половина откладывается.\n",
    "\n",
    "Программа должна учитывать сколько премий было в год.\n",
    "\n",
    "Нужно вывести сколько денег тратит пользователь на ипотеку и сколько он накопит за год.\n",
    "\n",
    "Пример:\n",
    "\n",
    "Введите заработанную плату в месяц: 100000\n",
    "\n",
    "Введите сколько процентов уходит на ипотеку: 30\n",
    "\n",
    "Введите сколько процентов уходит на жизнь: 50\n",
    "\n",
    "Введите количество премий за год: 2\n",
    "\n",
    "Вывод: На ипотеку было потрачено: 360000 рублей Было накоплено: 340000 рублей"
   ]
  },
  {
   "cell_type": "code",
   "execution_count": 56,
   "metadata": {},
   "outputs": [
    {
     "name": "stdout",
     "output_type": "stream",
     "text": [
      "Введите заработанную плату в месяц100\n",
      "Введите сколько процентов уходит на ипотеку20\n",
      "Введите сколько процентов уходит на жизнь30\n",
      "Введите количество премий за год4\n",
      "На ипотеку было потрачено: 240.0 рублей. Было накоплено: 800.0 рублей\n"
     ]
    }
   ],
   "source": [
    "salary = int(input('Введите заработанную плату в месяц')) \n",
    "mort = int(input('Введите сколько процентов уходит на ипотеку'))\n",
    "life = int(input('Введите сколько процентов уходит на жизнь'))\n",
    "bonus = int(input('Введите количество премий за год'))\n",
    "mort_expence = salary * 12 * mort / 100\n",
    "savings = (salary * 12) - (salary * 12 * mort / 100) - (salary * 12 * life / 100) + (bonus * salary / 2)\n",
    "print('На ипотеку было потрачено:' , mort_expence, 'рублей. Было накоплено:' , savings, 'рублей')"
   ]
  },
  {
   "cell_type": "code",
   "execution_count": null,
   "metadata": {},
   "outputs": [],
   "source": []
  }
 ],
 "metadata": {
  "kernelspec": {
   "display_name": "Python 3",
   "language": "python",
   "name": "python3"
  },
  "language_info": {
   "codemirror_mode": {
    "name": "ipython",
    "version": 3
   },
   "file_extension": ".py",
   "mimetype": "text/x-python",
   "name": "python",
   "nbconvert_exporter": "python",
   "pygments_lexer": "ipython3",
   "version": "3.7.6"
  }
 },
 "nbformat": 4,
 "nbformat_minor": 4
}
