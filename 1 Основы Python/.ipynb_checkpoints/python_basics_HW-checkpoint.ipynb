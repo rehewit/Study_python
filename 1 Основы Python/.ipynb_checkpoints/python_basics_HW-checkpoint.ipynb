{
 "cells": [
  {
   "cell_type": "markdown",
   "metadata": {},
   "source": [
    "# Домашнее задание к лекции \"Основы Python\""
   ]
  },
  {
   "cell_type": "markdown",
   "metadata": {},
   "source": [
    "## Задание 1"
   ]
  },
  {
   "cell_type": "markdown",
   "metadata": {},
   "source": [
    "Даны 2 переменных, в которых хранятся строки произвольной длины: *phrase_1* и *phrase_2*.  \n",
    "Напишите код, который проверяет какая из этих строк длиннее."
   ]
  },
  {
   "cell_type": "code",
   "execution_count": 5,
   "metadata": {},
   "outputs": [],
   "source": [
    "phrase_1 = 'ппп'\n",
    "phrase_2 = 'ббб'"
   ]
  },
  {
   "cell_type": "code",
   "execution_count": 6,
   "metadata": {},
   "outputs": [
    {
     "name": "stdout",
     "output_type": "stream",
     "text": [
      "Фразы одинаковой длины\n"
     ]
    }
   ],
   "source": [
    "if len(phrase_1) > len(phrase_2):\n",
    "    print('Фраза 1 длинее фразы 2')\n",
    "elif len(phrase_1) < len(phrase_2):\n",
    "    print('Фраза 2 длинее фразы 1')\n",
    "else:\n",
    "    print ('Фразы одинаковой длины')"
   ]
  },
  {
   "cell_type": "markdown",
   "metadata": {},
   "source": [
    "## Задание 2"
   ]
  },
  {
   "cell_type": "markdown",
   "metadata": {},
   "source": [
    "Дана переменная, в которой хранится четырехзначное число (год). Необходимо написать программу, которая выведет, является ли данный год високосным или обычным."
   ]
  },
  {
   "cell_type": "code",
   "execution_count": 12,
   "metadata": {},
   "outputs": [
    {
     "name": "stdout",
     "output_type": "stream",
     "text": [
      "Введите год:2000\n",
      "2000 високосный год\n"
     ]
    }
   ],
   "source": [
    "year = int(input('Введите год:'))\n",
    "\n",
    "if year % 4 == 0 and year % 100 != 0:\n",
    "    print(year, 'високосный год')\n",
    "elif year % 400 ==0:\n",
    "    print(year, 'високосный год')\n",
    "elif year % 100 == 0:\n",
    "    print(year, 'обычный год')\n",
    "else:\n",
    "    print(year, 'обычный год')"
   ]
  },
  {
   "cell_type": "markdown",
   "metadata": {},
   "source": [
    "## Задание 3"
   ]
  },
  {
   "cell_type": "markdown",
   "metadata": {},
   "source": [
    "Необходимо написать программу, которая будет запрашивать у пользователя месяц и дату рождения и выводить соответствующий знак зодиака."
   ]
  },
  {
   "cell_type": "code",
   "execution_count": 17,
   "metadata": {},
   "outputs": [
    {
     "name": "stdout",
     "output_type": "stream",
     "text": [
      "Введите месяц рождениядекабрь\n",
      "Введите дату рождения12\n",
      "стрелец\n"
     ]
    }
   ],
   "source": [
    "month = (input('Введите месяц рождения'))\n",
    "date = int(input('Введите дату рождения'))\n",
    "if month == 'январь':\n",
    "    if (date >= 21):\n",
    "        print('водолей')\n",
    "    else: print('козерог')\n",
    "elif month == 'февраль':\n",
    "    if (date >= 21):\n",
    "        print('рыбы')\n",
    "    else: print('водолей')\n",
    "elif month == 'март':\n",
    "    if (date >= 21):\n",
    "        print('овен')\n",
    "    else: print('рыбы')\n",
    "elif month == 'апрель':\n",
    "    if (date >= 21):\n",
    "        print('телец')\n",
    "    else: print('овен')\n",
    "elif month == 'май':\n",
    "    if (date >= 22):\n",
    "        print('близнецы')\n",
    "    else: print('телец')\n",
    "elif month == 'июнь':\n",
    "    if (date >= 22):\n",
    "        print('рак')\n",
    "    else: print('близнецы')\n",
    "elif month == 'июль':\n",
    "    if (date >= 23):\n",
    "        print('лев')\n",
    "    else: print('рак')\n",
    "elif month == 'август':\n",
    "    if (date >= 24):\n",
    "        print('дева')\n",
    "    else: print('лев')\n",
    "elif month == 'сентябрь':\n",
    "    if (date >= 24):\n",
    "        print('весы')\n",
    "    else: print('дева')\n",
    "elif month == 'октябрь':\n",
    "    if (date >= 24):\n",
    "        print('скорпион')\n",
    "    else: print('весы')\n",
    "elif month == 'ноябрь':\n",
    "    if (date >= 23):\n",
    "        print('стрелец')\n",
    "    else: print('скорпион')\n",
    "elif month == 'декабрь':\n",
    "    if (date >= 23):\n",
    "        print('козерог')\n",
    "    else: print('стрелец')"
   ]
  },
  {
   "cell_type": "markdown",
   "metadata": {},
   "source": [
    "## Задание 4"
   ]
  },
  {
   "cell_type": "markdown",
   "metadata": {},
   "source": [
    "Вам нужно написать программу для подбора упаковок по размерам товара. Размеры (ширина, длина, высота) хранятся в переменных (в сантиметрах):\n",
    "\n",
    "Используйте следующие правила:\n",
    "- если каждое из трех измерений менее 15 сантиметров, то выведите на экран \"Коробка №1\";\n",
    "- если хотя бы одно из измерений больше 15 сантиметров, но менее 50 сантиметров, то выводите \"Коробка №2\";\n",
    "- если длина товара больше 2 метров, то выводите \"Упаковка для лыж\";\n",
    "- во всех остальных случаях выводите \"Стандартная коробка №3\".\n",
    "\n",
    "Пример работы программы:  \n",
    "1.  \n",
    "\n",
    "```\n",
    "width = 15\n",
    "length = 50\n",
    "height = 15\n",
    "```\n",
    "Результат:  \n",
    "`Стандартная коробка №3` \n",
    "\n",
    "2.  \n",
    "\n",
    "```\n",
    "width = 45\n",
    "length = 205\n",
    "height = 45\n",
    "```\n",
    "Результат:  \n",
    "`Ищите упаковку для лыж` "
   ]
  },
  {
   "cell_type": "code",
   "execution_count": 39,
   "metadata": {},
   "outputs": [],
   "source": [
    "width = 14\n",
    "length = 49\n",
    "height = 12"
   ]
  },
  {
   "cell_type": "code",
   "execution_count": 40,
   "metadata": {},
   "outputs": [
    {
     "name": "stdout",
     "output_type": "stream",
     "text": [
      "Коробка 2\n"
     ]
    }
   ],
   "source": [
    "if width < 15 and length < 15 and height < 15:\n",
    "    print ('Коробка 1')\n",
    "elif length >= 200:\n",
    "    print ('Упаковка для лыж')\n",
    "elif 15 <= width < 50 or 15 <= length < 50 or 15 <= height < 50:\n",
    "    print ('Коробка 2')\n",
    "else:\n",
    "    print ('Стандартная коробка 3')\n"
   ]
  },
  {
   "cell_type": "markdown",
   "metadata": {},
   "source": [
    "## Задание 5 (необязательное)"
   ]
  },
  {
   "cell_type": "markdown",
   "metadata": {},
   "source": [
    "Дана переменная, в которой хранится шестизначное число (номер проездного билета). Напишите программу, которая будет определять, является ли данный билет \"счастливым\". Билет считается счастливым, если сумма первых трех цифр совпадает с суммой последних трех цифр номера.   \n",
    "\n",
    "Примеры работы программы:  \n",
    "1. ```number = 123456```\n",
    "\n",
    "Результат:  \n",
    "`Неасчастливый билет`\n",
    "2. ```number = 123321```\n",
    "\n",
    "Результат:  \n",
    "`Счастливый билет`\n"
   ]
  },
  {
   "cell_type": "code",
   "execution_count": 42,
   "metadata": {},
   "outputs": [],
   "source": [
    "number = 123321"
   ]
  },
  {
   "cell_type": "code",
   "execution_count": 54,
   "metadata": {},
   "outputs": [
    {
     "name": "stdout",
     "output_type": "stream",
     "text": [
      "Счастливый билет 123321\n"
     ]
    }
   ],
   "source": [
    "number_1 = int(str(number)[0]) + int(str(number)[1]) + int(str(number)[2])\n",
    "number_2 = int(str(number)[3]) + int(str(number)[4]) + int(str(number)[5])\n",
    "if number_1 != number_2:\n",
    "    print ('Не счастливый билет', number)\n",
    "else:\n",
    "    print ('Счастливый билет', number)"
   ]
  },
  {
   "cell_type": "markdown",
   "metadata": {},
   "source": [
    "## Задание 6 (необязательное)"
   ]
  },
  {
   "cell_type": "markdown",
   "metadata": {},
   "source": [
    "Напишите программу, которая сможет вычислять площади трех фигур (круг, треугольник и прямоугольник).\n",
    "Тип фигуры запрашиваем через пользовательский ввод, после чего делаем запрос характеристик фигуры:\n",
    "\n",
    "- если пользователь выбрал круг, запрашиваем его радиус,\n",
    "- если треугольник – длины трех его сторон;\n",
    "- если прямоугольник – длины двух его сторон.\n",
    "\n",
    "Пример работы программы:\n",
    "1.  \n",
    "\n",
    "```\n",
    "Введите тип фигуры:\n",
    "Круг\n",
    "\n",
    "Введите радиус круга:\n",
    "10\n",
    "```\n",
    "Результат:  \n",
    "`Площадь круга: 314.16`\n",
    "\n",
    "2.  \n",
    "\n",
    "```\n",
    "Введите тип фигуры:\n",
    "Треугольник\n",
    "\n",
    "Введите длину стороны A:\n",
    "2\n",
    "\n",
    "Введите длину стороны B:\n",
    "2\n",
    "\n",
    "Введите длину стороны C:\n",
    "3\n",
    "```\n",
    "Результат:  \n",
    "`Площадь треугольника: 1.98`"
   ]
  },
  {
   "cell_type": "code",
   "execution_count": 57,
   "metadata": {},
   "outputs": [],
   "source": [
    "import math"
   ]
  },
  {
   "cell_type": "code",
   "execution_count": null,
   "metadata": {},
   "outputs": [],
   "source": [
    "type = (input('Введите тип фигуры: круг, треугольник или прямоугольник '))\n",
    "if type == 'круг' or type == 'Круг':\n",
    "    r = float(input('Введите радиус '))\n",
    "    sr = math.pi * r ** 2\n",
    "    print ('Площадь круга', sr)\n",
    "elif type == 'треугольник' or type == 'Треугольник':\n",
    "    a = float(input('Введите сторону a '))\n",
    "    b = float(input('Введите сторону b '))\n",
    "    c = float(input('Введите сторону c '))\n",
    "    p = (a + b + c)/ 2\n",
    "    st = math.sqrt(p * (p - a) * (p - b) * (p - c))\n",
    "    print ('Площадь треугольника', st)\n",
    "elif type == 'прямоугольник' or type == 'Прямоугольник':\n",
    "    a = float(input('Введите сторону a '))\n",
    "    b = float(input('Введите сторону b '))\n",
    "    srct = a * b\n",
    "    print ('Площадь квадрата', srct)"
   ]
  },
  {
   "cell_type": "markdown",
   "metadata": {},
   "source": [
    "#### ПРИМЕЧАНИЕ\n",
    "Домашнее задание сдается ссылкой на репозиторий [GitHub](https://github.com/).\n",
    "Не сможем проверить или помочь, если вы пришлете:\n",
    "- файлы;\n",
    "- архивы;\n",
    "- скриншоты кода.\n",
    "\n",
    "Все обсуждения и консультации по выполнению домашнего задания ведутся только на соответствующем канале в slack.\n",
    "\n",
    "##### Как правильно задавать вопросы аспирантам, преподавателям и коллегам\n",
    "Прежде чем задать вопрос, попробуйте найти ответ в интернете. Навык самостоятельного поиска информации — один из важнейших. Каждый практикующий специалист любого уровня делает это ежедневно.\n",
    "\n",
    "Сформулируйте вопрос по алгоритму:  \n",
    "1) Что я делаю?  \n",
    "2) Какого результата я ожидаю?  \n",
    "3) Как фактический результат отличается от ожидаемого?  \n",
    "4) Что я уже попробовал сделать, чтобы исправить проблему?  \n",
    "\n",
    "По возможности прикрепите к вопросу скриншоты либо ссылки на код. Не выкладывайте все решение, оставляйте только проблемный и воспроизводимый участок кода."
   ]
  }
 ],
 "metadata": {
  "kernelspec": {
   "display_name": "Python 3",
   "language": "python",
   "name": "python3"
  },
  "language_info": {
   "codemirror_mode": {
    "name": "ipython",
    "version": 3
   },
   "file_extension": ".py",
   "mimetype": "text/x-python",
   "name": "python",
   "nbconvert_exporter": "python",
   "pygments_lexer": "ipython3",
   "version": "3.8.5"
  }
 },
 "nbformat": 4,
 "nbformat_minor": 2
}
